{
 "cells": [
  {
   "cell_type": "markdown",
   "metadata": {},
   "source": [
    "## Phenotypic associations between idps-idps and idps-retinas"
   ]
  },
  {
   "cell_type": "code",
   "execution_count": 1,
   "metadata": {},
   "outputs": [
    {
     "ename": "ImportError",
     "evalue": "cannot import name 'TYPE_OF_FIGS' from 'settings' (/SSD/home/sofia/VasculatureMultiOrgan/src/settings.py)",
     "output_type": "error",
     "traceback": [
      "\u001b[0;31m---------------------------------------------------------------------------\u001b[0m",
      "\u001b[0;31mImportError\u001b[0m                               Traceback (most recent call last)",
      "Input \u001b[0;32mIn [1]\u001b[0m, in \u001b[0;36m<cell line: 6>\u001b[0;34m()\u001b[0m\n\u001b[1;32m      4\u001b[0m os\u001b[38;5;241m.\u001b[39mchdir(\u001b[38;5;124m'\u001b[39m\u001b[38;5;124m..\u001b[39m\u001b[38;5;124m'\u001b[39m)\n\u001b[1;32m      5\u001b[0m current_dir \u001b[38;5;241m=\u001b[39m os\u001b[38;5;241m.\u001b[39mgetcwd()\n\u001b[0;32m----> 6\u001b[0m \u001b[38;5;28;01mfrom\u001b[39;00m \u001b[38;5;21;01msettings\u001b[39;00m \u001b[38;5;28;01mimport\u001b[39;00m PYTHON_LOGGING_LEVEL, DIR_UTILS, DATE_USED, INTERM_FOLDER, IDP_RETINA_USED, DIR_UKBB, SQUARE_FIG, DOBLE_FIG,  IDP_VASCULAR_USED, Z_SCORE_APPLIED, MULTIPLE_TESTING, SOFT_MULTIPLE_TESTING, COVARIATES, FILTER_OUTLIERS, TYPE_OF_FIGS, PLOT_SCATTER_FIGS, SAVE_FIGURES\n\u001b[1;32m      8\u001b[0m logger \u001b[38;5;241m=\u001b[39m logging\u001b[38;5;241m.\u001b[39mgetLogger(\u001b[38;5;18m__name__\u001b[39m)\n\u001b[1;32m      9\u001b[0m logging\u001b[38;5;241m.\u001b[39mbasicConfig(level\u001b[38;5;241m=\u001b[39mPYTHON_LOGGING_LEVEL)\n",
      "\u001b[0;31mImportError\u001b[0m: cannot import name 'TYPE_OF_FIGS' from 'settings' (/SSD/home/sofia/VasculatureMultiOrgan/src/settings.py)"
     ]
    }
   ],
   "source": [
    "import pandas as pd\n",
    "import sys, os\n",
    "import logging\n",
    "os.chdir('..')\n",
    "current_dir = os.getcwd()\n",
    "from settings import PYTHON_LOGGING_LEVEL, DIR_UTILS, DATE_USED, INTERM_FOLDER, IDP_RETINA_USED, DIR_UKBB, SQUARE_FIG, DOBLE_FIG,  IDP_VASCULAR_USED, Z_SCORE_APPLIED, MULTIPLE_TESTING, SOFT_MULTIPLE_TESTING, COVARIATES, FILTER_OUTLIERS, TYPE_OF_FIGS, PLOT_SCATTER_FIGS, SAVE_FIGURES, TYPE_BP\n",
    "\n",
    "logger = logging.getLogger(__name__)\n",
    "logging.basicConfig(level=PYTHON_LOGGING_LEVEL)\n",
    "sys.path.append(DIR_UTILS)\n",
    "from utils.plotting.generate_plots import (filtered_corr_plots, pval_asterisk, doble_plot_corr_pval, \n",
    "                                           plot_multiple_fig_shared, plot_corr_pval, \n",
    "                                           get_names_figs, filter_dataframe, pearsonr_pval)\n",
    "\n",
    "from utils.plotting.generate_secundary_plots import scatter_plot_secondary_figs\n",
    "from utils.plotting.plotting_settings import pheno_img_values\n",
    "\n",
    "from utils.preprocessing_pheno.compute_rsid import get_files_names\n",
    "from utils.data_information.data_IDPs_info import *\n",
    "from utils.data_information.data_homologous_info import *\n",
    "from utils.data_information.data_retina_info import list_retina_homologous_red_new"
   ]
  },
  {
   "cell_type": "code",
   "execution_count": null,
   "metadata": {},
   "outputs": [],
   "source": [
    "SAVE_FIGURES = bool(SAVE_FIGURES)\n",
    "\n",
    "if TYPE_OF_FIGS == 'suppl_figs_1':\n",
    "    combine_IMT_heart_brain = False #True # False -> plot the _corr_brain fig\n",
    "    main_final_figs = False #True\n",
    "\n",
    "elif TYPE_OF_FIGS == 'suppl_figs_2':\n",
    "    combine_IMT_heart_brain = True #True # False -> plot the _corr_brain fig\n",
    "    main_final_figs = False #True\n",
    "\n",
    "elif TYPE_OF_FIGS == 'main_figs':\n",
    "    combine_IMT_heart_brain = True #True # False -> plot the _corr_brain fig\n",
    "    main_final_figs = True #True\n",
    "\n",
    "## IMPROTANT, if using MULTIPLE_TESTING = Subset the complete figure does not apply a proper multiple testing since I am interested in the sub set ()\n",
    "# Since the image is Squared (IDPs, IDPs) + Rectangular (IDPs, Retina) -> Subset = IDPs * (IDPs/2 + Retina)\n",
    "\n",
    "save_dir=f'{DIR_UKBB}{INTERM_FOLDER}'"
   ]
  },
  {
   "cell_type": "code",
   "execution_count": null,
   "metadata": {},
   "outputs": [],
   "source": [
    "name_file_values_count, name_file_zscored = get_files_names(IDP_RETINA_USED, \n",
    "                                                        IDP_VASCULAR_USED, \n",
    "                                                        Z_SCORE_APPLIED, \n",
    "                                                        combine_IMT_heart_brain, \n",
    "                                                        COVARIATES,\n",
    "                                                        TYPE_BP,\n",
    "                                                        DATE_USED,\n",
    "                                                        FILTER_OUTLIERS)\n",
    "\n",
    "\n",
    "title_square, title_doble, title_doble_N = get_names_figs(DATE_USED, \n",
    "                                        SQUARE_FIG, \n",
    "                                        DOBLE_FIG, \n",
    "                                        Z_SCORE_APPLIED, \n",
    "                                        combine_IMT_heart_brain, \n",
    "                                        COVARIATES, \n",
    "                                        MULTIPLE_TESTING, \n",
    "                                        SAVE_FIGURES,\n",
    "                                        TYPE_BP,\n",
    "                                        FILTER_OUTLIERS,\n",
    "                                        TYPE_OF_FIGS)\n",
    "\n",
    "df = pd.read_csv(f'{save_dir}{name_file_zscored}', index_col=False)\n",
    "df_non_null_values_count = pd.read_csv(f'{save_dir}{name_file_values_count}', index_col=False)\n",
    "\n",
    "\n",
    "df_non_null_values_count.index = df_non_null_values_count.columns\n",
    "\n",
    "if main_final_figs:\n",
    "    filter_list_IDPs = list_retina_homologous_red_new + list(dict_final_IDPs.values())\n",
    "    df = df[filter_list_IDPs]\n",
    "    df_non_null_values_count = df_non_null_values_count.loc[filter_list_IDPs,filter_list_IDPs]\n",
    "\n"
   ]
  },
  {
   "cell_type": "code",
   "execution_count": null,
   "metadata": {},
   "outputs": [],
   "source": [
    "if combine_IMT_heart_brain==False:\n",
    "    dict_brain = dict_CBF.copy()\n",
    "    dict_brain.update(dict_ATT)\n",
    "    dict_brain.update(dict_deletions_brain)\n",
    "    dict_brain.update(dict_brain_vessel)\n",
    "\n",
    "    dict_heart = dict_heart_vessel.copy()\n",
    "    dict_heart.update(dict_heart_vessel_2)\n",
    "    dict_heart.update(dict_heart_functional)\n",
    "\n",
    "    print(f'Plotting individual organ corr. Saving...')\n",
    "    cte=1\n",
    "    filtered_corr_plots(df, dict_brain, figsize_1=(20, cte*20), cbar_1=0.05, SAVE_FIGURES=SAVE_FIGURES, name_used=f'Brain_cov_{covariants}', only_half=True)\n",
    "    filtered_corr_plots(df, dict_IMT, figsize_1=(6, cte*6), cbar_1=0.05, SAVE_FIGURES=SAVE_FIGURES, name_used=f'Carotid_cov_{covariants}', only_half=True)\n",
    "    filtered_corr_plots(df, dict_heart, figsize_1=(10, cte*10), cbar_1=0.05, SAVE_FIGURES=SAVE_FIGURES, name_used=f'Aorta_cov_{covariants}', only_half=True)"
   ]
  },
  {
   "cell_type": "code",
   "execution_count": null,
   "metadata": {},
   "outputs": [],
   "source": [
    "figsize_val_square, cbar_fraction_val_square, cte_square, figsize_val_both, width_ratios_val_both = pheno_img_values(IDP_VASCULAR_USED, combine_IMT_heart_brain, main_final_figs)"
   ]
  },
  {
   "cell_type": "code",
   "execution_count": null,
   "metadata": {},
   "outputs": [],
   "source": [
    "list_values = [col for col in df.columns if col not in list_retina_homologous_red_new and col != 'new_eid']\n",
    "\n",
    "##### \n",
    "if TYPE_OF_FIGS == 'suppl_figs_2':\n",
    "    list_values = list(dict_homologous_averag.values())\n",
    "\n",
    "df = df[list_values + list_retina_homologous_red_new]"
   ]
  },
  {
   "cell_type": "code",
   "execution_count": null,
   "metadata": {},
   "outputs": [],
   "source": [
    "df_corr_matrix = df.corr()\n",
    "plot_multiple_fig_shared(df_corr_matrix, df_non_null_values_count, figsize_val=figsize_val_square, cbar_fraction_val=cbar_fraction_val_square)"
   ]
  },
  {
   "cell_type": "markdown",
   "metadata": {},
   "source": [
    "### P values plots"
   ]
  },
  {
   "cell_type": "code",
   "execution_count": null,
   "metadata": {},
   "outputs": [],
   "source": [
    "#df.corr(method=spearmanr) and df.corr(method=pearsonr) needs to not have nans\n",
    "df_pval = df.corr(method=pearsonr_pval)\n",
    "\n",
    "df_val_asterisk = pval_asterisk(df, df_pval, MULTIPLE_TESTING, \n",
    "    SOFT_MULTIPLE_TESTING, list_values, list_retina_homologous_red_new, log_pval=False, N_shape=False)\n",
    "\n",
    "plot_corr_pval(df.corr(), df_val_asterisk, cte_square)"
   ]
  },
  {
   "cell_type": "code",
   "execution_count": null,
   "metadata": {},
   "outputs": [],
   "source": [
    "\n",
    "red_df_corr_matrix = filter_dataframe(df_corr_matrix, list_values, list_retina_homologous_red_new)\n",
    "#red_df_non_null_values_count = filter_dataframe(df_non_null_values_count, list_retina_homologous_red_new, list_values)\n",
    "\n",
    "#red_df_corr_matrix = red_df_corr_matrix.T\n",
    "#red_df_non_null_values_count = red_df_non_null_values_count.T\n",
    "\n",
    "df_IDPs = df[list_values]\n",
    "df_IDPs_pval = df_IDPs.corr(method=pearsonr_pval)\n",
    "\n",
    "df_IDPs_pval_asterisk = pval_asterisk(df_IDPs, df_IDPs_pval, MULTIPLE_TESTING, \n",
    "    SOFT_MULTIPLE_TESTING, list_values, list_retina_homologous_red_new, log_pval=False)#, N_shape=len(df_IDPs.columns)**2)\n",
    "\n",
    "#plot_corr_pval(df_IDPs.corr(),df_IDPs_pval_asterisk, val_conversion_factor=3, val_conversion_factor_extra=0.7, title_fig=title_square, only_half=True)\n",
    "\n",
    "red_df_val_asterisk = filter_dataframe(df_val_asterisk, list_values, list_retina_homologous_red_new)\n",
    "#red_df_val_asterisk = red_df_val_asterisk.T\n",
    "\n",
    "#plot_corr_pval(red_df_corr_matrix, red_df_val_asterisk, 5.5, val_conversion_factor_extra=0.5, title_fig=False, cmap_used='RdBu_r')\n",
    "\n",
    "doble_plot_corr_pval(df_corr1=df_IDPs.corr(),\n",
    "                df_pval1=df_IDPs_pval_asterisk, \n",
    "                df_corr2=red_df_corr_matrix, \n",
    "                df_pval2=red_df_val_asterisk, \n",
    "                figsize_val=figsize_val_both, \n",
    "                width_ratios_val=width_ratios_val_both,\n",
    "                title_fig=title_doble, \n",
    "                only_half1=True, \n",
    "                only_half2=False, \n",
    "                cmap_used1='seismic',\n",
    "                cmap_used2='RdBu_r', \n",
    "                cbar_BP = TYPE_BP)\n"
   ]
  },
  {
   "cell_type": "code",
   "execution_count": null,
   "metadata": {},
   "outputs": [],
   "source": [
    "if combine_IMT_heart_brain==True:\n",
    "    red_df_non_null_values_count = df_non_null_values_count.loc[list_values, list_retina_homologous_red_new]\n",
    "    df_non_null_values_count_IDPs = df_non_null_values_count.loc[list_values, list_values]\n",
    "    #red_df_non_null_values_count = red_df_non_null_values_count.T\n",
    "    doble_plot_corr_pval(df_corr1=df_non_null_values_count_IDPs,\n",
    "                    df_pval1=None, \n",
    "                    df_corr2=red_df_non_null_values_count,  \n",
    "                    df_pval2=None,\n",
    "                    figsize_val=figsize_val_both, \n",
    "                    width_ratios_val=width_ratios_val_both,\n",
    "                    title_fig=title_doble_N,\n",
    "                    only_half1=True, \n",
    "                    only_half2=False, \n",
    "                    cmap_used1='Blues', \n",
    "                    cmap_used2='Greys') #Greys ()\n",
    "                    #cmax_used = df_non_null_values_count_IDPs.max().max())"
   ]
  },
  {
   "cell_type": "markdown",
   "metadata": {},
   "source": [
    "# Scatter plots"
   ]
  },
  {
   "cell_type": "code",
   "execution_count": null,
   "metadata": {},
   "outputs": [],
   "source": [
    "if PLOT_SCATTER_FIGS in [True, 'True']:\n",
    "    scatter_plot_secondary_figs(df)"
   ]
  },
  {
   "cell_type": "code",
   "execution_count": null,
   "metadata": {},
   "outputs": [],
   "source": []
  }
 ],
 "metadata": {
  "interpreter": {
   "hash": "95161b553680d11d4803f18476dc2819f20954ce1d1b783ae21e04eb1a5279a7"
  },
  "kernelspec": {
   "display_name": "Python 3.8.0 64-bit ('pyth_existingvasc': conda)",
   "name": "python3"
  },
  "language_info": {
   "codemirror_mode": {
    "name": "ipython",
    "version": 3
   },
   "file_extension": ".py",
   "mimetype": "text/x-python",
   "name": "python",
   "nbconvert_exporter": "python",
   "pygments_lexer": "ipython3",
   "version": "3.8.0"
  }
 },
 "nbformat": 4,
 "nbformat_minor": 4
}
