{
 "cells": [
  {
   "cell_type": "markdown",
   "metadata": {},
   "source": [
    "# Imaging difference"
   ]
  },
  {
   "cell_type": "code",
   "execution_count": null,
   "metadata": {},
   "outputs": [],
   "source": [
    "import sys\n",
    "import pandas as pd\n",
    "import matplotlib.pyplot as plt\n",
    "import logging\n",
    "from settings import PYTHON_LOGGING_LEVEL, DIR_UTILS, DIR_UKBB, INTERM_FOLDER\n",
    "\n",
    "logger = logging.getLogger(__name__)\n",
    "logging.basicConfig(level=PYTHON_LOGGING_LEVEL)\n",
    "\n",
    "sys.path.append(DIR_UTILS)"
   ]
  },
  {
   "cell_type": "code",
   "execution_count": null,
   "metadata": {},
   "outputs": [],
   "source": [
    "\n",
    "dir_output_data_folder = f'{DIR_UKBB}{INTERM_FOLDER}'\n",
    "#df = pd.read_csv(dir_output_data_folder+'2024_02_19_all_homologous_all.csv')"
   ]
  },
  {
   "cell_type": "code",
   "execution_count": null,
   "metadata": {},
   "outputs": [],
   "source": [
    "list_cols = ['eid', '53-0.0', '53-1.0', '53-2.0','53-3.0']\n",
    "df = pd.read_csv(DIR_UKBB+'dataset_670188/ukb670188.csv', usecols=list_cols)"
   ]
  },
  {
   "cell_type": "code",
   "execution_count": null,
   "metadata": {},
   "outputs": [],
   "source": [
    "# convert datatime format\n",
    "for list_col in list_cols:\n",
    "    if list_col != 'eid':\n",
    "        df[list_col] = pd.to_datetime(df[list_col])\n",
    "# compute dif instance 2 and 0\n",
    "df['diff_20_00']= df['53-2.0']-df['53-0.0']\n",
    "\n",
    "print('Non-null values:', df['diff_20_00'].count())"
   ]
  },
  {
   "cell_type": "code",
   "execution_count": null,
   "metadata": {},
   "outputs": [],
   "source": [
    "filtered_df_dropna = df.dropna(subset=['diff_20_00']).copy()\n",
    "print(filtered_df_dropna['diff_20_00'].head(2))\n",
    "# Convert timedelta to number of days using .loc\n",
    "filtered_df_dropna.loc[:, 'diff_20_00_days'] = filtered_df_dropna['diff_20_00'].dt.days\n",
    "print(filtered_df_dropna['diff_20_00'].head(2))"
   ]
  },
  {
   "cell_type": "code",
   "execution_count": null,
   "metadata": {},
   "outputs": [],
   "source": [
    "filtered_df_dropna['diff_20_00_days'].hist(bins=20)\n",
    "plt.xlabel('Number of Days')\n",
    "plt.ylabel('Frequency')\n",
    "plt.title('Histogram of diff_20_00 (in days)')\n",
    "plt.show()\n",
    "## NOTE -> no filter applied! (Non-null values: 56013)"
   ]
  },
  {
   "cell_type": "code",
   "execution_count": null,
   "metadata": {},
   "outputs": [],
   "source": [
    "(filtered_df_dropna['diff_20_00_days']/365).hist(bins=20)\n",
    "plt.xlabel('Number of Years')\n",
    "plt.ylabel('Frequency')\n",
    "plt.title('Histogram of diff_20_00 (in y)')\n",
    "plt.show()\n",
    "## NOTE -> no filter applied! (Non-null values: 56013)"
   ]
  },
  {
   "cell_type": "code",
   "execution_count": null,
   "metadata": {},
   "outputs": [],
   "source": []
  }
 ],
 "metadata": {
  "interpreter": {
   "hash": "95161b553680d11d4803f18476dc2819f20954ce1d1b783ae21e04eb1a5279a7"
  },
  "kernelspec": {
   "display_name": "Python 3.8.0 64-bit ('pyth_existingvasc': conda)",
   "name": "python3"
  },
  "language_info": {
   "codemirror_mode": {
    "name": "ipython",
    "version": 3
   },
   "file_extension": ".py",
   "mimetype": "text/x-python",
   "name": "python",
   "nbconvert_exporter": "python",
   "pygments_lexer": "ipython3",
   "version": "3.8.0"
  }
 },
 "nbformat": 4,
 "nbformat_minor": 4
}
